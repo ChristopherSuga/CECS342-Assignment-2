{
 "cells": [
  {
   "cell_type": "code",
   "execution_count": 3,
   "id": "5cf4cfa9",
   "metadata": {},
   "outputs": [
    {
     "name": "stdout",
     "output_type": "stream",
     "text": [
      "[-876.32, -34.23, 1.1, 1.11, 5.31, 23.46, 37.59, 62.25, 76.41, 467.83, 635.47, 645.41]\n",
      "[{'name': 'Juan', 'age': 33}, {'name': 'Doretha', 'age': 32}, {'name': 'Susann', 'age': 31}, {'name': 'Benny', 'age': 28}, {'name': 'Cory', 'age': 27}, {'name': 'Romana', 'age': 27}, {'name': 'Rosalyn', 'age': 26}, {'name': 'Zara', 'age': 26}, {'name': 'Lawrence', 'age': 25}, {'name': 'Natalie', 'age': 25}, {'name': 'Risa', 'age': 24}, {'name': 'Zara', 'age': 23}, {'name': 'Cindy', 'age': 22}, {'name': 'Kassandra', 'age': 21}, {'name': 'Danna', 'age': 20}, {'name': 'Hal', 'age': 20}, {'name': 'Dwight', 'age': 19}, {'name': 'Mac', 'age': 19}]\n"
     ]
    }
   ],
   "source": [
    "numbers = [645.41, 37.59, 76.41, 5.31, -34.23, 1.11, 1.10, 23.46, 635.47, -876.32, 467.83, 62.25]\n",
    "people = [\n",
    "  {'name': 'Hal', 'age': 20 }, {'name': 'Susann', 'age': 31 },  {'name': 'Dwight', 'age': 19 }, {'name': 'Kassandra', 'age': 21 },\n",
    "     {'name': 'Lawrence', 'age': 25 }, {'name': 'Cindy', 'age': 22 }, {'name': 'Cory', 'age': 27 }, {'name': 'Mac', 'age': 19 },\n",
    "     {'name': 'Romana', 'age': 27 }, {'name': 'Doretha', 'age': 32 }, {'name': 'Danna', 'age': 20 }, {'name': 'Zara', 'age': 23 },\n",
    "     {'name': 'Zara', 'age': 26 }, {'name': 'Rosalyn', 'age': 26 }, {'name': 'Risa', 'age': 24 }, {'name': 'Benny', 'age': 28 },\n",
    "    {'name': 'Juan', 'age': 33 }, {'name': 'Natalie', 'age': 25 }\n",
    "]\n",
    "def name(e):\n",
    "  return e['name']\n",
    "def age(e):\n",
    "  return e['age']\n",
    "\n",
    "numbers.sort()\n",
    "print(numbers)\n",
    "people.sort(key = name)\n",
    "people.sort(reverse = True,key = age)\n",
    "print(people)"
   ]
  },
  {
   "cell_type": "code",
   "execution_count": null,
   "id": "175f63aa",
   "metadata": {},
   "outputs": [],
   "source": []
  }
 ],
 "metadata": {
  "kernelspec": {
   "display_name": "Python 3 (ipykernel)",
   "language": "python",
   "name": "python3"
  },
  "language_info": {
   "codemirror_mode": {
    "name": "ipython",
    "version": 3
   },
   "file_extension": ".py",
   "mimetype": "text/x-python",
   "name": "python",
   "nbconvert_exporter": "python",
   "pygments_lexer": "ipython3",
   "version": "3.9.12"
  }
 },
 "nbformat": 4,
 "nbformat_minor": 5
}
